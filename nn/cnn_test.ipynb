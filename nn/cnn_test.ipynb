{
 "cells": [
  {
   "cell_type": "code",
   "execution_count": 1,
   "metadata": {},
   "outputs": [],
   "source": [
    "GPU = True\n",
    "if GPU:\n",
    "    import cupy as np\n",
    "else:\n",
    "    import numpy as np\n",
    "\n",
    "from tqdm import tqdm\n",
    "from cnn import *\n",
    "from mnistDataLoader import MnistDataloader"
   ]
  },
  {
   "cell_type": "code",
   "execution_count": 2,
   "metadata": {},
   "outputs": [],
   "source": [
    "mnist_dataloader = MnistDataloader('train-images-idx3-ubyte/train-images-idx3-ubyte', 'train-labels-idx1-ubyte/train-labels-idx1-ubyte', 't10k-images-idx3-ubyte/t10k-images-idx3-ubyte', 't10k-labels-idx1-ubyte/t10k-labels-idx1-ubyte')\n",
    "(x_train, y_train), (x_test, y_test) = mnist_dataloader.load_data()\n",
    "\n",
    "x_train = np.array(x_train).reshape((60000, 1, 28, 28))\n",
    "y_train = np.array(y_train)\n",
    "x_test = np.array(x_test).reshape((10000, 1, 28, 28))\n",
    "y_test = np.array(y_test)\n",
    "\n",
    "x_train = x_train/256\n",
    "x_test = x_test/256\n",
    "\n",
    "def to_one_hot(x, length=10):\n",
    "    a = [0] * length\n",
    "    a[int(x)] = 1\n",
    "    return a\n",
    "y_train = np.array(list(map(to_one_hot, y_train))).reshape(60000, 10, 1)\n",
    "y_test = np.array(list(map(to_one_hot, y_test))).reshape(10000, 10, 1)"
   ]
  },
  {
   "cell_type": "code",
   "execution_count": 3,
   "metadata": {},
   "outputs": [
    {
     "name": "stderr",
     "output_type": "stream",
     "text": [
      " 35%|███▍      | 20945/60000 [00:31<00:58, 664.35it/s]\n"
     ]
    },
    {
     "ename": "KeyboardInterrupt",
     "evalue": "",
     "output_type": "error",
     "traceback": [
      "\u001b[0;31m---------------------------------------------------------------------------\u001b[0m",
      "\u001b[0;31mKeyboardInterrupt\u001b[0m                         Traceback (most recent call last)",
      "\u001b[1;32m/home/vinay/Code/ML/implems/nn/cnn_test.ipynb Cell 3\u001b[0m line \u001b[0;36m2\n\u001b[1;32m     <a href='vscode-notebook-cell:/home/vinay/Code/ML/implems/nn/cnn_test.ipynb#W2sZmlsZQ%3D%3D?line=17'>18</a>\u001b[0m \u001b[39mfor\u001b[39;00m l \u001b[39min\u001b[39;00m cnn:\n\u001b[1;32m     <a href='vscode-notebook-cell:/home/vinay/Code/ML/implems/nn/cnn_test.ipynb#W2sZmlsZQ%3D%3D?line=18'>19</a>\u001b[0m     output \u001b[39m=\u001b[39m l\u001b[39m.\u001b[39mforward(output)\n\u001b[0;32m---> <a href='vscode-notebook-cell:/home/vinay/Code/ML/implems/nn/cnn_test.ipynb#W2sZmlsZQ%3D%3D?line=20'>21</a>\u001b[0m cost \u001b[39m+\u001b[39m\u001b[39m=\u001b[39m binary_cross_entropy(y, output)\n\u001b[1;32m     <a href='vscode-notebook-cell:/home/vinay/Code/ML/implems/nn/cnn_test.ipynb#W2sZmlsZQ%3D%3D?line=22'>23</a>\u001b[0m grad \u001b[39m=\u001b[39m binary_cross_entropy_gradient(y, output)\n\u001b[1;32m     <a href='vscode-notebook-cell:/home/vinay/Code/ML/implems/nn/cnn_test.ipynb#W2sZmlsZQ%3D%3D?line=23'>24</a>\u001b[0m \u001b[39mfor\u001b[39;00m layer \u001b[39min\u001b[39;00m \u001b[39mreversed\u001b[39m(cnn):\n",
      "File \u001b[0;32m~/Code/ML/implems/nn/cnn.py:172\u001b[0m, in \u001b[0;36mbinary_cross_entropy\u001b[0;34m(y, y_pred)\u001b[0m\n\u001b[1;32m    171\u001b[0m \u001b[39mdef\u001b[39;00m \u001b[39mbinary_cross_entropy\u001b[39m(y, y_pred):\n\u001b[0;32m--> 172\u001b[0m     \u001b[39mreturn\u001b[39;00m \u001b[39m-\u001b[39mnp\u001b[39m.\u001b[39;49mmean(y \u001b[39m*\u001b[39;49m np\u001b[39m.\u001b[39;49mlog(y_pred) \u001b[39m+\u001b[39;49m (\u001b[39m1\u001b[39;49m \u001b[39m-\u001b[39;49m y) \u001b[39m*\u001b[39;49m np\u001b[39m.\u001b[39;49mlog(\u001b[39m1\u001b[39;49m \u001b[39m-\u001b[39;49m y_pred))\n",
      "File \u001b[0;32m~/Code/ML/implems/.conda/lib/python3.12/site-packages/cupy/_statistics/meanvar.py:162\u001b[0m, in \u001b[0;36mmean\u001b[0;34m(a, axis, dtype, out, keepdims)\u001b[0m\n\u001b[1;32m    144\u001b[0m \u001b[39m\u001b[39m\u001b[39m\"\"\"Returns the arithmetic mean along an axis.\u001b[39;00m\n\u001b[1;32m    145\u001b[0m \n\u001b[1;32m    146\u001b[0m \u001b[39mArgs:\u001b[39;00m\n\u001b[0;32m   (...)\u001b[0m\n\u001b[1;32m    159\u001b[0m \n\u001b[1;32m    160\u001b[0m \u001b[39m\"\"\"\u001b[39;00m\n\u001b[1;32m    161\u001b[0m \u001b[39m# TODO(okuta): check type\u001b[39;00m\n\u001b[0;32m--> 162\u001b[0m \u001b[39mreturn\u001b[39;00m a\u001b[39m.\u001b[39;49mmean(axis\u001b[39m=\u001b[39;49maxis, dtype\u001b[39m=\u001b[39;49mdtype, out\u001b[39m=\u001b[39;49mout, keepdims\u001b[39m=\u001b[39;49mkeepdims)\n",
      "File \u001b[0;32mcupy/_core/core.pyx:1111\u001b[0m, in \u001b[0;36mcupy._core.core._ndarray_base.mean\u001b[0;34m()\u001b[0m\n",
      "File \u001b[0;32mcupy/_core/core.pyx:1120\u001b[0m, in \u001b[0;36mcupy._core.core._ndarray_base.mean\u001b[0;34m()\u001b[0m\n",
      "File \u001b[0;32mcupy/_core/_routines_statistics.pyx:149\u001b[0m, in \u001b[0;36mcupy._core._routines_statistics._ndarray_mean\u001b[0;34m()\u001b[0m\n",
      "File \u001b[0;32mcupy/_core/_kernel.pyx:1331\u001b[0m, in \u001b[0;36mcupy._core._kernel.ufunc.__call__\u001b[0;34m()\u001b[0m\n",
      "File \u001b[0;32mcupy/_core/_kernel.pyx:1555\u001b[0m, in \u001b[0;36mcupy._core._kernel._Ops.guess_routine\u001b[0;34m()\u001b[0m\n",
      "File \u001b[0;32mcupy/_core/_kernel.pyx:1116\u001b[0m, in \u001b[0;36mcupy._core._kernel._min_scalar_type\u001b[0;34m()\u001b[0m\n",
      "File \u001b[0;32m~/Code/ML/implems/.conda/lib/python3.12/site-packages/numpy/core/multiarray.py:618\u001b[0m, in \u001b[0;36mmin_scalar_type\u001b[0;34m(a)\u001b[0m\n\u001b[1;32m    505\u001b[0m \u001b[39m    \u001b[39m\u001b[39m\"\"\"\u001b[39;00m\n\u001b[1;32m    506\u001b[0m \u001b[39m    can_cast(from_, to, casting='safe')\u001b[39;00m\n\u001b[1;32m    507\u001b[0m \n\u001b[0;32m   (...)\u001b[0m\n\u001b[1;32m    613\u001b[0m \n\u001b[1;32m    614\u001b[0m \u001b[39m    \"\"\"\u001b[39;00m\n\u001b[1;32m    615\u001b[0m     \u001b[39mreturn\u001b[39;00m (from_,)\n\u001b[0;32m--> 618\u001b[0m \u001b[39m@array_function_from_c_func_and_dispatcher\u001b[39m(_multiarray_umath\u001b[39m.\u001b[39mmin_scalar_type)\n\u001b[1;32m    619\u001b[0m \u001b[39mdef\u001b[39;00m \u001b[39mmin_scalar_type\u001b[39m(a):\n\u001b[1;32m    620\u001b[0m \u001b[39m    \u001b[39m\u001b[39m\"\"\"\u001b[39;00m\n\u001b[1;32m    621\u001b[0m \u001b[39m    min_scalar_type(a, /)\u001b[39;00m\n\u001b[1;32m    622\u001b[0m \n\u001b[0;32m   (...)\u001b[0m\n\u001b[1;32m    664\u001b[0m \n\u001b[1;32m    665\u001b[0m \u001b[39m    \"\"\"\u001b[39;00m\n\u001b[1;32m    666\u001b[0m     \u001b[39mreturn\u001b[39;00m (a,)\n",
      "\u001b[0;31mKeyboardInterrupt\u001b[0m: "
     ]
    }
   ],
   "source": [
    "cnn = [\n",
    "    Conv2D((1, 28, 28), 3, 5),\n",
    "    Sigmoid(),\n",
    "    Reshape((5, 26, 26), (5 * 26 * 26, 1)),\n",
    "    Dense(5 * 26 * 26, 100),\n",
    "    Sigmoid(),\n",
    "    Dense(100, 10),\n",
    "    Sigmoid()\n",
    "]\n",
    "\n",
    "\n",
    "epochs = 10\n",
    "lr = 0.01\n",
    "for e in range(epochs):\n",
    "    cost = 0\n",
    "    for x, y in tqdm(list(zip(x_train, y_train))):\n",
    "        output = x\n",
    "        for l in cnn:\n",
    "            output = l.forward(output)\n",
    "\n",
    "        cost += binary_cross_entropy(y, output)\n",
    "\n",
    "        grad = binary_cross_entropy_gradient(y, output)\n",
    "        for layer in reversed(cnn):\n",
    "            grad = layer.backward(grad, lr)\n",
    "\n",
    "    cost /= len(x_train)\n",
    "    print(f'Finished epoch {e+1} with training cost {cost}')"
   ]
  },
  {
   "cell_type": "code",
   "execution_count": null,
   "metadata": {},
   "outputs": [],
   "source": [
    "def predict(x):\n",
    "    output = x\n",
    "    for l in cnn:\n",
    "        output = l.forward(output)\n",
    "    return np.argmax(output)\n",
    "\n",
    "def evaluate(x, y):\n",
    "    res = np.array(list(map(predict, x)))\n",
    "    ans = np.array(list(map(np.argmax, y)))\n",
    "    return np.sum(res == ans) / len(res)"
   ]
  },
  {
   "cell_type": "code",
   "execution_count": null,
   "metadata": {},
   "outputs": [
    {
     "name": "stdout",
     "output_type": "stream",
     "text": [
      "1\n",
      "1\n"
     ]
    }
   ],
   "source": [
    "idx = np.random.randint(0, len(x_test))\n",
    "\n",
    "print(predict(x_test[idx]))\n",
    "print(np.argmax(y_test[idx]))"
   ]
  },
  {
   "cell_type": "code",
   "execution_count": null,
   "metadata": {},
   "outputs": [
    {
     "name": "stdout",
     "output_type": "stream",
     "text": [
      "0.653\n"
     ]
    }
   ],
   "source": [
    "print(evaluate(x_test, y_test))"
   ]
  },
  {
   "cell_type": "code",
   "execution_count": null,
   "metadata": {},
   "outputs": [],
   "source": []
  }
 ],
 "metadata": {
  "kernelspec": {
   "display_name": "Python 3",
   "language": "python",
   "name": "python3"
  },
  "language_info": {
   "codemirror_mode": {
    "name": "ipython",
    "version": 3
   },
   "file_extension": ".py",
   "mimetype": "text/x-python",
   "name": "python",
   "nbconvert_exporter": "python",
   "pygments_lexer": "ipython3",
   "version": "3.12.1"
  }
 },
 "nbformat": 4,
 "nbformat_minor": 2
}
