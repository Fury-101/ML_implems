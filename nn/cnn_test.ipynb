{
 "cells": [
  {
   "cell_type": "code",
   "execution_count": 1,
   "metadata": {},
   "outputs": [],
   "source": [
    "GPU = True\n",
    "if GPU:\n",
    "    import cupy as np\n",
    "else:\n",
    "    import numpy as np\n",
    "\n",
    "from tqdm import tqdm\n",
    "from cnn import *\n",
    "from mnistDataLoader import MnistDataloader"
   ]
  },
  {
   "cell_type": "code",
   "execution_count": 2,
   "metadata": {},
   "outputs": [],
   "source": [
    "mnist_dataloader = MnistDataloader('train-images-idx3-ubyte/train-images-idx3-ubyte', 'train-labels-idx1-ubyte/train-labels-idx1-ubyte', 't10k-images-idx3-ubyte/t10k-images-idx3-ubyte', 't10k-labels-idx1-ubyte/t10k-labels-idx1-ubyte')\n",
    "(x_train, y_train), (x_test, y_test) = mnist_dataloader.load_data()\n",
    "\n",
    "x_train = np.array(x_train).reshape((60000, 1, 28, 28))\n",
    "y_train = np.array(y_train)\n",
    "x_test = np.array(x_test).reshape((10000, 1, 28, 28))\n",
    "y_test = np.array(y_test)\n",
    "\n",
    "x_train = x_train/256\n",
    "x_test = x_test/256\n",
    "\n",
    "def to_one_hot(x, length=10):\n",
    "    a = [0] * length\n",
    "    a[int(x)] = 1\n",
    "    return a\n",
    "y_train = np.array(list(map(to_one_hot, y_train))).reshape(60000, 10, 1)\n",
    "y_test = np.array(list(map(to_one_hot, y_test))).reshape(10000, 10, 1)"
   ]
  },
  {
   "cell_type": "code",
   "execution_count": 3,
   "metadata": {},
   "outputs": [
    {
     "name": "stderr",
     "output_type": "stream",
     "text": [
      "  0%|          | 0/60000 [00:00<?, ?it/s]\n"
     ]
    },
    {
     "ename": "CUDADriverError",
     "evalue": "CUDA_ERROR_NOT_FOUND: named symbol not found",
     "output_type": "error",
     "traceback": [
      "\u001b[0;31m---------------------------------------------------------------------------\u001b[0m",
      "\u001b[0;31mCUDADriverError\u001b[0m                           Traceback (most recent call last)",
      "\u001b[1;32m/home/vinay/Code/ML/implems/nn/cnn_test.ipynb Cell 3\u001b[0m line \u001b[0;36m1\n\u001b[1;32m     <a href='vscode-notebook-cell://localhost:8080/home/vinay/Code/ML/implems/nn/cnn_test.ipynb#W2sdnNjb2RlLXJlbW90ZQ%3D%3D?line=16'>17</a>\u001b[0m output \u001b[39m=\u001b[39m x\n\u001b[1;32m     <a href='vscode-notebook-cell://localhost:8080/home/vinay/Code/ML/implems/nn/cnn_test.ipynb#W2sdnNjb2RlLXJlbW90ZQ%3D%3D?line=17'>18</a>\u001b[0m \u001b[39mfor\u001b[39;00m l \u001b[39min\u001b[39;00m cnn:\n\u001b[0;32m---> <a href='vscode-notebook-cell://localhost:8080/home/vinay/Code/ML/implems/nn/cnn_test.ipynb#W2sdnNjb2RlLXJlbW90ZQ%3D%3D?line=18'>19</a>\u001b[0m     output \u001b[39m=\u001b[39m l\u001b[39m.\u001b[39;49mforward(output)\n\u001b[1;32m     <a href='vscode-notebook-cell://localhost:8080/home/vinay/Code/ML/implems/nn/cnn_test.ipynb#W2sdnNjb2RlLXJlbW90ZQ%3D%3D?line=20'>21</a>\u001b[0m cost \u001b[39m+\u001b[39m\u001b[39m=\u001b[39m binary_cross_entropy(y, output)\n\u001b[1;32m     <a href='vscode-notebook-cell://localhost:8080/home/vinay/Code/ML/implems/nn/cnn_test.ipynb#W2sdnNjb2RlLXJlbW90ZQ%3D%3D?line=22'>23</a>\u001b[0m grad \u001b[39m=\u001b[39m binary_cross_entropy_gradient(y, output)\n",
      "File \u001b[0;32m~/Code/ML/implems/nn/cnn.py:114\u001b[0m, in \u001b[0;36mConv2D.forward\u001b[0;34m(self, inp)\u001b[0m\n\u001b[1;32m    111\u001b[0m threads \u001b[39m=\u001b[39m (\u001b[39mself\u001b[39m\u001b[39m.\u001b[39minput_shape[\u001b[39m0\u001b[39m]\u001b[39m*\u001b[39m\u001b[39mself\u001b[39m\u001b[39m.\u001b[39minput_shape[\u001b[39m1\u001b[39m] \u001b[39m+\u001b[39m blockSize \u001b[39m-\u001b[39m \u001b[39m1\u001b[39m) \u001b[39m/\u001b[39m blockSize\n\u001b[1;32m    113\u001b[0m output_temp \u001b[39m=\u001b[39m np\u001b[39m.\u001b[39mzeros(\u001b[39mself\u001b[39m\u001b[39m.\u001b[39moutput[i]\u001b[39m.\u001b[39mshape)\n\u001b[0;32m--> 114\u001b[0m convolution_kernel((blockSize,), (threads,), \n\u001b[1;32m    115\u001b[0m                     (\u001b[39mself\u001b[39;49m\u001b[39m.\u001b[39;49minput_shape[\u001b[39m-\u001b[39;49m\u001b[39m1\u001b[39;49m], \n\u001b[1;32m    116\u001b[0m                     \u001b[39mself\u001b[39;49m\u001b[39m.\u001b[39;49mkernel_shape[\u001b[39m-\u001b[39;49m\u001b[39m1\u001b[39;49m],\n\u001b[1;32m    117\u001b[0m                     \u001b[39mself\u001b[39;49m\u001b[39m.\u001b[39;49moutput_shape[\u001b[39m-\u001b[39;49m\u001b[39m1\u001b[39;49m],\n\u001b[1;32m    118\u001b[0m                     \u001b[39mself\u001b[39;49m\u001b[39m.\u001b[39;49minput[j],\n\u001b[1;32m    119\u001b[0m                     \u001b[39mself\u001b[39;49m\u001b[39m.\u001b[39;49mkernels[i][j],\n\u001b[1;32m    120\u001b[0m                     output_temp\n\u001b[1;32m    121\u001b[0m                     ))\n\u001b[1;32m    122\u001b[0m \u001b[39mself\u001b[39m\u001b[39m.\u001b[39moutput[i] \u001b[39m+\u001b[39m\u001b[39m=\u001b[39m output_temp\n\u001b[1;32m    123\u001b[0m \u001b[39m# self.output[i] += signal.correlate2d(self.input[j], self.kernels[i][j], 'valid')\u001b[39;00m\n",
      "File \u001b[0;32mcupy/_core/raw.pyx:89\u001b[0m, in \u001b[0;36mcupy._core.raw.RawKernel.__call__\u001b[0;34m()\u001b[0m\n",
      "File \u001b[0;32mcupy/_core/raw.pyx:96\u001b[0m, in \u001b[0;36mcupy._core.raw.RawKernel.kernel.__get__\u001b[0;34m()\u001b[0m\n",
      "File \u001b[0;32mcupy/_core/raw.pyx:117\u001b[0m, in \u001b[0;36mcupy._core.raw.RawKernel._kernel\u001b[0;34m()\u001b[0m\n",
      "File \u001b[0;32mcupy/cuda/function.pyx:275\u001b[0m, in \u001b[0;36mcupy.cuda.function.Module.get_function\u001b[0;34m()\u001b[0m\n",
      "File \u001b[0;32mcupy/cuda/function.pyx:216\u001b[0m, in \u001b[0;36mcupy.cuda.function.Function.__init__\u001b[0;34m()\u001b[0m\n",
      "File \u001b[0;32mcupy_backends/cuda/api/driver.pyx:226\u001b[0m, in \u001b[0;36mcupy_backends.cuda.api.driver.moduleGetFunction\u001b[0;34m()\u001b[0m\n",
      "File \u001b[0;32mcupy_backends/cuda/api/driver.pyx:60\u001b[0m, in \u001b[0;36mcupy_backends.cuda.api.driver.check_status\u001b[0;34m()\u001b[0m\n",
      "\u001b[0;31mCUDADriverError\u001b[0m: CUDA_ERROR_NOT_FOUND: named symbol not found"
     ]
    }
   ],
   "source": [
    "cnn = [\n",
    "    Conv2D((1, 28, 28), 3, 5),\n",
    "    Sigmoid(),\n",
    "    Reshape((5, 26, 26), (5 * 26 * 26, 1)),\n",
    "    Dense(5 * 26 * 26, 100),\n",
    "    Sigmoid(),\n",
    "    Dense(100, 10),\n",
    "    Sigmoid()\n",
    "]\n",
    "# Try to run the network on cpu first (don't use cuda)\n",
    "# In cnn.py, line 113, you have not defined the numyp array to be on cuda, so that might be the reason for the CUDA NOT FOUND ERROR for the the \"output_temp\" variable.\n",
    "\n",
    "\n",
    "epochs = 10\n",
    "lr = 0.01\n",
    "for e in range(epochs):\n",
    "    cost = 0\n",
    "    for x, y in tqdm(list(zip(x_train, y_train))):\n",
    "        output = x\n",
    "        for l in cnn:\n",
    "            output = l.forward(output)\n",
    "\n",
    "        cost += binary_cross_entropy(y, output)\n",
    "\n",
    "        grad = binary_cross_entropy_gradient(y, output)\n",
    "        for layer in reversed(cnn):\n",
    "            grad = layer.backward(grad, lr)\n",
    "\n",
    "    cost /= len(x_train)\n",
    "    print(f'Finished epoch {e+1} with training cost {cost}')"
   ]
  },
  {
   "cell_type": "code",
   "execution_count": null,
   "metadata": {},
   "outputs": [],
   "source": [
    "def predict(x):\n",
    "    output = x\n",
    "    for l in cnn:\n",
    "        output = l.forward(output)\n",
    "    return np.argmax(output)\n",
    "\n",
    "def evaluate(x, y):\n",
    "    res = np.array(list(map(predict, x)))\n",
    "    ans = np.array(list(map(np.argmax, y)))\n",
    "    return np.sum(res == ans) / len(res)"
   ]
  },
  {
   "cell_type": "code",
   "execution_count": null,
   "metadata": {},
   "outputs": [
    {
     "name": "stdout",
     "output_type": "stream",
     "text": [
      "1\n",
      "1\n"
     ]
    }
   ],
   "source": [
    "idx = np.random.randint(0, len(x_test))\n",
    "\n",
    "print(predict(x_test[idx]))\n",
    "print(np.argmax(y_test[idx]))"
   ]
  },
  {
   "cell_type": "code",
   "execution_count": null,
   "metadata": {},
   "outputs": [
    {
     "name": "stdout",
     "output_type": "stream",
     "text": [
      "0.653\n"
     ]
    }
   ],
   "source": [
    "print(evaluate(x_test, y_test))"
   ]
  },
  {
   "cell_type": "code",
   "execution_count": null,
   "metadata": {},
   "outputs": [],
   "source": []
  }
 ],
 "metadata": {
  "kernelspec": {
   "display_name": "Python 3",
   "language": "python",
   "name": "python3"
  },
  "language_info": {
   "codemirror_mode": {
    "name": "ipython",
    "version": 3
   },
   "file_extension": ".py",
   "mimetype": "text/x-python",
   "name": "python",
   "nbconvert_exporter": "python",
   "pygments_lexer": "ipython3",
   "version": "3.12.1"
  }
 },
 "nbformat": 4,
 "nbformat_minor": 2
}
