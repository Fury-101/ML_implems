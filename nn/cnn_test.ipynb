{
 "cells": [
  {
   "cell_type": "code",
   "execution_count": 1,
   "metadata": {},
   "outputs": [
    {
     "name": "stdout",
     "output_type": "stream",
     "text": [
      "importing Jupyter notebook from cnn.ipynb\n"
     ]
    }
   ],
   "source": [
    "import numpy as np\n",
    "import import_ipynb\n",
    "from tqdm import tqdm\n",
    "from cnn import *\n",
    "from mnistDataLoader import MnistDataloader"
   ]
  },
  {
   "cell_type": "code",
   "execution_count": 2,
   "metadata": {},
   "outputs": [],
   "source": [
    "mnist_dataloader = MnistDataloader('train-images-idx3-ubyte/train-images-idx3-ubyte', 'train-labels-idx1-ubyte/train-labels-idx1-ubyte', 't10k-images-idx3-ubyte/t10k-images-idx3-ubyte', 't10k-labels-idx1-ubyte/t10k-labels-idx1-ubyte')\n",
    "(x_train, y_train), (x_test, y_test) = mnist_dataloader.load_data()\n",
    "\n",
    "x_train = np.stack(x_train).reshape((60000, 1, 28, 28))\n",
    "y_train = np.stack(y_train)\n",
    "x_test = np.stack(x_test).reshape((10000, 1, 28, 28))\n",
    "y_test = np.stack(y_test)\n",
    "\n",
    "x_train = (lambda x:x/256)(x_train)\n",
    "x_test = (lambda x:x/256)(x_test)\n",
    "\n",
    "def to_one_hot(x, length=10):\n",
    "    a = [0] * length\n",
    "    a[x] = 1\n",
    "    return a\n",
    "\n",
    "y_train = np.array(list(map(to_one_hot, y_train))).reshape(60000, 10, 1)\n",
    "y_test = np.array(list(map(to_one_hot, y_test))).reshape(10000, 10, 1)"
   ]
  },
  {
   "cell_type": "code",
   "execution_count": 3,
   "metadata": {},
   "outputs": [
    {
     "name": "stderr",
     "output_type": "stream",
     "text": [
      "  0%|          | 0/60000 [00:00<?, ?it/s]"
     ]
    },
    {
     "name": "stderr",
     "output_type": "stream",
     "text": [
      "  1%|▏         | 886/60000 [00:01<01:15, 784.75it/s]\n"
     ]
    },
    {
     "ename": "KeyboardInterrupt",
     "evalue": "",
     "output_type": "error",
     "traceback": [
      "\u001b[0;31m---------------------------------------------------------------------------\u001b[0m",
      "\u001b[0;31mKeyboardInterrupt\u001b[0m                         Traceback (most recent call last)",
      "\u001b[1;32m/home/vinay/Code/ML/implems/nn/cnn_test.ipynb Cell 3\u001b[0m line \u001b[0;36m2\n\u001b[1;32m     <a href='vscode-notebook-cell:/home/vinay/Code/ML/implems/nn/cnn_test.ipynb#W0sZmlsZQ%3D%3D?line=25'>26</a>\u001b[0m     grad \u001b[39m=\u001b[39m binary_cross_entropy_gradient(y, output)\n\u001b[1;32m     <a href='vscode-notebook-cell:/home/vinay/Code/ML/implems/nn/cnn_test.ipynb#W0sZmlsZQ%3D%3D?line=26'>27</a>\u001b[0m     \u001b[39mfor\u001b[39;00m layer \u001b[39min\u001b[39;00m \u001b[39mreversed\u001b[39m(cnn):\n\u001b[0;32m---> <a href='vscode-notebook-cell:/home/vinay/Code/ML/implems/nn/cnn_test.ipynb#W0sZmlsZQ%3D%3D?line=27'>28</a>\u001b[0m         grad \u001b[39m=\u001b[39m layer\u001b[39m.\u001b[39;49mbackward(grad, lr)\n\u001b[1;32m     <a href='vscode-notebook-cell:/home/vinay/Code/ML/implems/nn/cnn_test.ipynb#W0sZmlsZQ%3D%3D?line=29'>30</a>\u001b[0m cost \u001b[39m/\u001b[39m\u001b[39m=\u001b[39m \u001b[39mlen\u001b[39m(x_train)\n\u001b[1;32m     <a href='vscode-notebook-cell:/home/vinay/Code/ML/implems/nn/cnn_test.ipynb#W0sZmlsZQ%3D%3D?line=30'>31</a>\u001b[0m \u001b[39mprint\u001b[39m(\u001b[39mf\u001b[39m\u001b[39m'\u001b[39m\u001b[39mFinished epoch \u001b[39m\u001b[39m{\u001b[39;00me\u001b[39m+\u001b[39m\u001b[39m1\u001b[39m\u001b[39m}\u001b[39;00m\u001b[39m with cost \u001b[39m\u001b[39m{\u001b[39;00mcost\u001b[39m}\u001b[39;00m\u001b[39m'\u001b[39m)\n",
      "File \u001b[0;32m<string>:17\u001b[0m, in \u001b[0;36mbackward\u001b[0;34m(self, output_gradient, lr)\u001b[0m\n",
      "\u001b[0;31mKeyboardInterrupt\u001b[0m: "
     ]
    }
   ],
   "source": [
    "cnn = [\n",
    "    Conv2D((1, 28, 28), 3, 5),\n",
    "    Sigmoid(),\n",
    "    Reshape((5, 26, 26), (5 * 26 * 26, 1)),\n",
    "    Dense(5 * 26 * 26, 100),\n",
    "    Sigmoid(),\n",
    "    Dense(100, 10),\n",
    "    Sigmoid()\n",
    "]\n",
    "\n",
    "\n",
    "epochs = 1\n",
    "lr = 0.01\n",
    "for e in range(epochs):\n",
    "    cost = 0\n",
    "    for x, y in tqdm(list(zip(x_train, y_train))):\n",
    "        output = x\n",
    "        for l in cnn:\n",
    "            output = l.forward(output)\n",
    "\n",
    "        cost += binary_cross_entropy(y, output)\n",
    "\n",
    "        grad = binary_cross_entropy_gradient(y, output)\n",
    "        for layer in reversed(cnn):\n",
    "            grad = layer.backward(grad, lr)\n",
    "\n",
    "    cost /= len(x_train)\n",
    "    print(f'Finished epoch {e+1} with cost {cost}')"
   ]
  },
  {
   "cell_type": "code",
   "execution_count": null,
   "metadata": {},
   "outputs": [],
   "source": [
    "def predict(x):\n",
    "    output = x\n",
    "    for l in cnn:\n",
    "        output = l.forward(output)\n",
    "    return np.argmax(output)\n",
    "\n",
    "def evaluate(x, y):\n",
    "    res = np.array(list(map(predict, x)))\n",
    "    ans = np.array(list(map(np.argmax, y)))\n",
    "    return np.sum(res == ans) / len(res)"
   ]
  },
  {
   "cell_type": "code",
   "execution_count": null,
   "metadata": {},
   "outputs": [
    {
     "name": "stdout",
     "output_type": "stream",
     "text": [
      "1\n",
      "1\n"
     ]
    }
   ],
   "source": [
    "idx = np.random.randint(0, len(x_test))\n",
    "\n",
    "print(predict(x_test[idx]))\n",
    "print(np.argmax(y_test[idx]))"
   ]
  },
  {
   "cell_type": "code",
   "execution_count": null,
   "metadata": {},
   "outputs": [
    {
     "name": "stdout",
     "output_type": "stream",
     "text": [
      "0.7281\n"
     ]
    }
   ],
   "source": [
    "print(evaluate(x_test, y_test))"
   ]
  },
  {
   "cell_type": "code",
   "execution_count": null,
   "metadata": {},
   "outputs": [],
   "source": []
  }
 ],
 "metadata": {
  "kernelspec": {
   "display_name": "Python 3",
   "language": "python",
   "name": "python3"
  },
  "language_info": {
   "codemirror_mode": {
    "name": "ipython",
    "version": 3
   },
   "file_extension": ".py",
   "mimetype": "text/x-python",
   "name": "python",
   "nbconvert_exporter": "python",
   "pygments_lexer": "ipython3",
   "version": "3.11.5"
  }
 },
 "nbformat": 4,
 "nbformat_minor": 2
}
