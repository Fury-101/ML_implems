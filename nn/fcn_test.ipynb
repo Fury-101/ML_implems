{
 "cells": [
  {
   "cell_type": "code",
   "execution_count": null,
   "metadata": {},
   "outputs": [],
   "source": [
    "import sys\n",
    "sys.path.insert(0, '../mnist')\n",
    "from mnistDataLoader import MnistDataloader\n",
    "from fcn import NN\n",
    "import numpy as np\n",
    "import matplotlib.pyplot as plt"
   ]
  },
  {
   "cell_type": "code",
   "execution_count": null,
   "metadata": {},
   "outputs": [],
   "source": [
    "mnist_dataloader = MnistDataloader('../mnist/train-images-idx3-ubyte/train-images-idx3-ubyte', '../mnist/train-labels-idx1-ubyte/train-labels-idx1-ubyte', '../mnist/t10k-images-idx3-ubyte/t10k-images-idx3-ubyte', '../mnist/t10k-labels-idx1-ubyte/t10k-labels-idx1-ubyte')\n",
    "(x_train, y_train), (x_test, y_test) = mnist_dataloader.load_data()\n",
    "\n",
    "x_train = np.stack(np.array(x_train)).reshape((60000, 784, 1))\n",
    "y_train = np.stack(np.array(y_train))\n",
    "x_test = np.stack(np.array(x_test)).reshape((10000, 784, 1))\n",
    "y_test = np.stack(np.array(y_test))\n",
    "\n",
    "x_train = (lambda x:x/256)(x_train)\n",
    "x_test = (lambda x:x/256)(x_test)\n",
    "\n",
    "def to_one_hot(x, length=10):\n",
    "    a = [0] * length\n",
    "    a[x] = 1\n",
    "    return a\n",
    "\n",
    "y_train = np.array(list(map(to_one_hot, y_train))).reshape(60000, 10, 1)\n",
    "y_test = np.array(list(map(to_one_hot, y_test))).reshape(10000, 10, 1)"
   ]
  },
  {
   "cell_type": "code",
   "execution_count": null,
   "metadata": {},
   "outputs": [],
   "source": [
    "nn = NN([\n",
    "    784, \n",
    "    30,\n",
    "    10\n",
    "])"
   ]
  },
  {
   "cell_type": "code",
   "execution_count": null,
   "metadata": {},
   "outputs": [],
   "source": [
    "nn.train(x_train,y_train, epochs=50, mini_batch_size=10, lr=3.0)"
   ]
  },
  {
   "cell_type": "code",
   "execution_count": null,
   "metadata": {},
   "outputs": [],
   "source": [
    "print(f'Neural network accuracy: {nn.evaluate(list(zip(x_test,y_test))) * 100}%') "
   ]
  },
  {
   "cell_type": "code",
   "execution_count": null,
   "metadata": {},
   "outputs": [],
   "source": [
    "index = np.random.randint(0,len(x_test))\n",
    "print(f\"Prediction: {np.argmax(nn.forward(x_test[index]))}\")\n",
    "plt.imshow(x_test[index].reshape(28,28), interpolation='nearest')"
   ]
  },
  {
   "cell_type": "code",
   "execution_count": null,
   "metadata": {},
   "outputs": [],
   "source": []
  }
 ],
 "metadata": {
  "kernelspec": {
   "display_name": "Python 3",
   "language": "python",
   "name": "python3"
  },
  "language_info": {
   "codemirror_mode": {
    "name": "ipython",
    "version": 3
   },
   "file_extension": ".py",
   "mimetype": "text/x-python",
   "name": "python",
   "nbconvert_exporter": "python",
   "pygments_lexer": "ipython3",
   "version": "3.12.1"
  }
 },
 "nbformat": 4,
 "nbformat_minor": 2
}
