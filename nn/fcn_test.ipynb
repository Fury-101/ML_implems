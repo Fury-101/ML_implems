{
 "cells": [
  {
   "cell_type": "code",
   "execution_count": 1,
   "metadata": {},
   "outputs": [
    {
     "name": "stdout",
     "output_type": "stream",
     "text": [
      "Requirement already satisfied: import-ipynb in /home/vinay/Code/ML/implems/.conda/lib/python3.11/site-packages (0.1.4)\n",
      "Requirement already satisfied: IPython in /home/vinay/Code/ML/implems/.conda/lib/python3.11/site-packages (from import-ipynb) (8.19.0)\n",
      "Requirement already satisfied: nbformat in /home/vinay/Code/ML/implems/.conda/lib/python3.11/site-packages (from import-ipynb) (5.9.2)\n",
      "Requirement already satisfied: decorator in /home/vinay/Code/ML/implems/.conda/lib/python3.11/site-packages (from IPython->import-ipynb) (5.1.1)\n",
      "Requirement already satisfied: jedi>=0.16 in /home/vinay/Code/ML/implems/.conda/lib/python3.11/site-packages (from IPython->import-ipynb) (0.19.1)\n",
      "Requirement already satisfied: matplotlib-inline in /home/vinay/Code/ML/implems/.conda/lib/python3.11/site-packages (from IPython->import-ipynb) (0.1.6)\n",
      "Requirement already satisfied: prompt-toolkit<3.1.0,>=3.0.41 in /home/vinay/Code/ML/implems/.conda/lib/python3.11/site-packages (from IPython->import-ipynb) (3.0.42)\n",
      "Requirement already satisfied: pygments>=2.4.0 in /home/vinay/Code/ML/implems/.conda/lib/python3.11/site-packages (from IPython->import-ipynb) (2.17.2)\n",
      "Requirement already satisfied: stack-data in /home/vinay/Code/ML/implems/.conda/lib/python3.11/site-packages (from IPython->import-ipynb) (0.6.2)\n",
      "Requirement already satisfied: traitlets>=5 in /home/vinay/Code/ML/implems/.conda/lib/python3.11/site-packages (from IPython->import-ipynb) (5.14.0)\n",
      "Requirement already satisfied: pexpect>4.3 in /home/vinay/Code/ML/implems/.conda/lib/python3.11/site-packages (from IPython->import-ipynb) (4.8.0)\n",
      "Requirement already satisfied: fastjsonschema in /home/vinay/Code/ML/implems/.conda/lib/python3.11/site-packages (from nbformat->import-ipynb) (2.19.1)\n",
      "Requirement already satisfied: jsonschema>=2.6 in /home/vinay/Code/ML/implems/.conda/lib/python3.11/site-packages (from nbformat->import-ipynb) (4.20.0)\n",
      "Requirement already satisfied: jupyter-core in /home/vinay/Code/ML/implems/.conda/lib/python3.11/site-packages (from nbformat->import-ipynb) (5.6.0)\n",
      "Requirement already satisfied: parso<0.9.0,>=0.8.3 in /home/vinay/Code/ML/implems/.conda/lib/python3.11/site-packages (from jedi>=0.16->IPython->import-ipynb) (0.8.3)\n",
      "Requirement already satisfied: attrs>=22.2.0 in /home/vinay/Code/ML/implems/.conda/lib/python3.11/site-packages (from jsonschema>=2.6->nbformat->import-ipynb) (23.2.0)\n",
      "Requirement already satisfied: jsonschema-specifications>=2023.03.6 in /home/vinay/Code/ML/implems/.conda/lib/python3.11/site-packages (from jsonschema>=2.6->nbformat->import-ipynb) (2023.12.1)\n",
      "Requirement already satisfied: referencing>=0.28.4 in /home/vinay/Code/ML/implems/.conda/lib/python3.11/site-packages (from jsonschema>=2.6->nbformat->import-ipynb) (0.32.0)\n",
      "Requirement already satisfied: rpds-py>=0.7.1 in /home/vinay/Code/ML/implems/.conda/lib/python3.11/site-packages (from jsonschema>=2.6->nbformat->import-ipynb) (0.16.2)\n",
      "Requirement already satisfied: ptyprocess>=0.5 in /home/vinay/Code/ML/implems/.conda/lib/python3.11/site-packages (from pexpect>4.3->IPython->import-ipynb) (0.7.0)\n",
      "Requirement already satisfied: wcwidth in /home/vinay/Code/ML/implems/.conda/lib/python3.11/site-packages (from prompt-toolkit<3.1.0,>=3.0.41->IPython->import-ipynb) (0.2.12)\n",
      "Requirement already satisfied: platformdirs>=2.5 in /home/vinay/Code/ML/implems/.conda/lib/python3.11/site-packages (from jupyter-core->nbformat->import-ipynb) (4.1.0)\n",
      "Requirement already satisfied: executing>=1.2.0 in /home/vinay/Code/ML/implems/.conda/lib/python3.11/site-packages (from stack-data->IPython->import-ipynb) (2.0.1)\n",
      "Requirement already satisfied: asttokens>=2.1.0 in /home/vinay/Code/ML/implems/.conda/lib/python3.11/site-packages (from stack-data->IPython->import-ipynb) (2.4.1)\n",
      "Requirement already satisfied: pure-eval in /home/vinay/Code/ML/implems/.conda/lib/python3.11/site-packages (from stack-data->IPython->import-ipynb) (0.2.2)\n",
      "Requirement already satisfied: six>=1.12.0 in /home/vinay/Code/ML/implems/.conda/lib/python3.11/site-packages (from asttokens>=2.1.0->stack-data->IPython->import-ipynb) (1.16.0)\n",
      "Note: you may need to restart the kernel to use updated packages.\n",
      "importing Jupyter notebook from fcn.ipynb\n",
      "Requirement already satisfied: numpy in /home/vinay/Code/ML/implems/.conda/lib/python3.11/site-packages (1.26.2)\n",
      "Note: you may need to restart the kernel to use updated packages.\n",
      "Requirement already satisfied: matplotlib in /home/vinay/Code/ML/implems/.conda/lib/python3.11/site-packages (3.8.2)\n",
      "Requirement already satisfied: contourpy>=1.0.1 in /home/vinay/Code/ML/implems/.conda/lib/python3.11/site-packages (from matplotlib) (1.2.0)\n",
      "Requirement already satisfied: cycler>=0.10 in /home/vinay/Code/ML/implems/.conda/lib/python3.11/site-packages (from matplotlib) (0.12.1)\n",
      "Requirement already satisfied: fonttools>=4.22.0 in /home/vinay/Code/ML/implems/.conda/lib/python3.11/site-packages (from matplotlib) (4.47.0)\n",
      "Requirement already satisfied: kiwisolver>=1.3.1 in /home/vinay/Code/ML/implems/.conda/lib/python3.11/site-packages (from matplotlib) (1.4.5)\n",
      "Requirement already satisfied: numpy<2,>=1.21 in /home/vinay/Code/ML/implems/.conda/lib/python3.11/site-packages (from matplotlib) (1.26.2)\n",
      "Requirement already satisfied: packaging>=20.0 in /home/vinay/Code/ML/implems/.conda/lib/python3.11/site-packages (from matplotlib) (23.2)\n",
      "Requirement already satisfied: pillow>=8 in /home/vinay/Code/ML/implems/.conda/lib/python3.11/site-packages (from matplotlib) (10.1.0)\n",
      "Requirement already satisfied: pyparsing>=2.3.1 in /home/vinay/Code/ML/implems/.conda/lib/python3.11/site-packages (from matplotlib) (3.1.1)\n",
      "Requirement already satisfied: python-dateutil>=2.7 in /home/vinay/Code/ML/implems/.conda/lib/python3.11/site-packages (from matplotlib) (2.8.2)\n",
      "Requirement already satisfied: six>=1.5 in /home/vinay/Code/ML/implems/.conda/lib/python3.11/site-packages (from python-dateutil>=2.7->matplotlib) (1.16.0)\n",
      "Note: you may need to restart the kernel to use updated packages.\n",
      "Requirement already satisfied: tqdm in /home/vinay/Code/ML/implems/.conda/lib/python3.11/site-packages (4.66.1)\n",
      "Note: you may need to restart the kernel to use updated packages.\n"
     ]
    }
   ],
   "source": [
    "from mnistDataLoader import MnistDataloader\n",
    "%pip install import-ipynb\n",
    "import import_ipynb\n",
    "from fcn import NN\n",
    "import numpy as np\n",
    "import matplotlib.pyplot as plt"
   ]
  },
  {
   "cell_type": "code",
   "execution_count": 2,
   "metadata": {},
   "outputs": [],
   "source": [
    "mnist_dataloader = MnistDataloader('train-images-idx3-ubyte/train-images-idx3-ubyte', 'train-labels-idx1-ubyte/train-labels-idx1-ubyte', 't10k-images-idx3-ubyte/t10k-images-idx3-ubyte', 't10k-labels-idx1-ubyte/t10k-labels-idx1-ubyte')\n",
    "(x_train, y_train), (x_test, y_test) = mnist_dataloader.load_data()\n",
    "\n",
    "x_train = np.stack(x_train).reshape((60000, 784, 1))\n",
    "y_train = np.stack(y_train)\n",
    "x_test = np.stack(x_test).reshape((10000, 784, 1))\n",
    "y_test = np.stack(y_test)\n",
    "\n",
    "x_train = (lambda x:x/256)(x_train)\n",
    "x_test = (lambda x:x/256)(x_test)\n",
    "\n",
    "def to_one_hot(x, length=10):\n",
    "    a = [0] * length\n",
    "    a[x] = 1\n",
    "    return a\n",
    "\n",
    "y_train = np.array(list(map(to_one_hot, y_train))).reshape(60000, 10, 1)\n",
    "y_test = np.array(list(map(to_one_hot, y_test))).reshape(10000, 10, 1)"
   ]
  },
  {
   "cell_type": "code",
   "execution_count": 3,
   "metadata": {},
   "outputs": [],
   "source": [
    "nn = NN([\n",
    "    784, \n",
    "    30,\n",
    "    10\n",
    "])"
   ]
  },
  {
   "cell_type": "code",
   "execution_count": 11,
   "metadata": {},
   "outputs": [
    {
     "name": "stderr",
     "output_type": "stream",
     "text": [
      "100%|██████████| 6000/6000 [00:03<00:00, 1951.45it/s]\n"
     ]
    },
    {
     "name": "stdout",
     "output_type": "stream",
     "text": [
      "Epoch 1 complete\n"
     ]
    },
    {
     "name": "stderr",
     "output_type": "stream",
     "text": [
      "100%|██████████| 6000/6000 [00:03<00:00, 1932.34it/s]\n"
     ]
    },
    {
     "name": "stdout",
     "output_type": "stream",
     "text": [
      "Epoch 2 complete\n"
     ]
    },
    {
     "name": "stderr",
     "output_type": "stream",
     "text": [
      "100%|██████████| 6000/6000 [00:03<00:00, 1998.86it/s]\n"
     ]
    },
    {
     "name": "stdout",
     "output_type": "stream",
     "text": [
      "Epoch 3 complete\n"
     ]
    },
    {
     "name": "stderr",
     "output_type": "stream",
     "text": [
      "100%|██████████| 6000/6000 [00:03<00:00, 1706.24it/s]\n"
     ]
    },
    {
     "name": "stdout",
     "output_type": "stream",
     "text": [
      "Epoch 4 complete\n"
     ]
    },
    {
     "name": "stderr",
     "output_type": "stream",
     "text": [
      "100%|██████████| 6000/6000 [00:03<00:00, 1923.26it/s]\n"
     ]
    },
    {
     "name": "stdout",
     "output_type": "stream",
     "text": [
      "Epoch 5 complete\n"
     ]
    },
    {
     "name": "stderr",
     "output_type": "stream",
     "text": [
      "100%|██████████| 6000/6000 [00:03<00:00, 1808.81it/s]\n"
     ]
    },
    {
     "name": "stdout",
     "output_type": "stream",
     "text": [
      "Epoch 6 complete\n"
     ]
    },
    {
     "name": "stderr",
     "output_type": "stream",
     "text": [
      "100%|██████████| 6000/6000 [00:03<00:00, 1907.75it/s]\n"
     ]
    },
    {
     "name": "stdout",
     "output_type": "stream",
     "text": [
      "Epoch 7 complete\n"
     ]
    },
    {
     "name": "stderr",
     "output_type": "stream",
     "text": [
      "100%|██████████| 6000/6000 [00:02<00:00, 2013.78it/s]\n"
     ]
    },
    {
     "name": "stdout",
     "output_type": "stream",
     "text": [
      "Epoch 8 complete\n"
     ]
    },
    {
     "name": "stderr",
     "output_type": "stream",
     "text": [
      "100%|██████████| 6000/6000 [00:02<00:00, 2029.83it/s]\n"
     ]
    },
    {
     "name": "stdout",
     "output_type": "stream",
     "text": [
      "Epoch 9 complete\n"
     ]
    },
    {
     "name": "stderr",
     "output_type": "stream",
     "text": [
      "100%|██████████| 6000/6000 [00:03<00:00, 1877.64it/s]\n"
     ]
    },
    {
     "name": "stdout",
     "output_type": "stream",
     "text": [
      "Epoch 10 complete\n"
     ]
    },
    {
     "name": "stderr",
     "output_type": "stream",
     "text": [
      "100%|██████████| 6000/6000 [00:03<00:00, 1954.61it/s]\n"
     ]
    },
    {
     "name": "stdout",
     "output_type": "stream",
     "text": [
      "Epoch 11 complete\n"
     ]
    },
    {
     "name": "stderr",
     "output_type": "stream",
     "text": [
      "100%|██████████| 6000/6000 [00:03<00:00, 1905.35it/s]\n"
     ]
    },
    {
     "name": "stdout",
     "output_type": "stream",
     "text": [
      "Epoch 12 complete\n"
     ]
    },
    {
     "name": "stderr",
     "output_type": "stream",
     "text": [
      "100%|██████████| 6000/6000 [00:03<00:00, 1868.13it/s]\n"
     ]
    },
    {
     "name": "stdout",
     "output_type": "stream",
     "text": [
      "Epoch 13 complete\n"
     ]
    },
    {
     "name": "stderr",
     "output_type": "stream",
     "text": [
      "100%|██████████| 6000/6000 [00:03<00:00, 1699.88it/s]\n"
     ]
    },
    {
     "name": "stdout",
     "output_type": "stream",
     "text": [
      "Epoch 14 complete\n"
     ]
    },
    {
     "name": "stderr",
     "output_type": "stream",
     "text": [
      "100%|██████████| 6000/6000 [00:03<00:00, 1663.25it/s]\n"
     ]
    },
    {
     "name": "stdout",
     "output_type": "stream",
     "text": [
      "Epoch 15 complete\n"
     ]
    },
    {
     "name": "stderr",
     "output_type": "stream",
     "text": [
      " 25%|██▌       | 1527/6000 [00:00<00:02, 1798.84it/s]\n"
     ]
    },
    {
     "ename": "KeyboardInterrupt",
     "evalue": "",
     "output_type": "error",
     "traceback": [
      "\u001b[0;31m---------------------------------------------------------------------------\u001b[0m",
      "\u001b[0;31mKeyboardInterrupt\u001b[0m                         Traceback (most recent call last)",
      "\u001b[1;32m/home/vinay/Code/ML/implems/nn/fcn_test.ipynb Cell 4\u001b[0m line \u001b[0;36m1\n\u001b[0;32m----> <a href='vscode-notebook-cell:/home/vinay/Code/ML/implems/nn/fcn_test.ipynb#X13sZmlsZQ%3D%3D?line=0'>1</a>\u001b[0m nn\u001b[39m.\u001b[39;49mtrain(x_train,y_train, epochs\u001b[39m=\u001b[39;49m\u001b[39m50\u001b[39;49m, mini_batch_size\u001b[39m=\u001b[39;49m\u001b[39m10\u001b[39;49m, lr\u001b[39m=\u001b[39;49m\u001b[39m3.0\u001b[39;49m)\n",
      "File \u001b[0;32m<string>:44\u001b[0m, in \u001b[0;36mtrain\u001b[0;34m(self, x_train, y_train, epochs, mini_batch_size, lr)\u001b[0m\n",
      "File \u001b[0;32m<string>:53\u001b[0m, in \u001b[0;36mhandle_batch\u001b[0;34m(self, x, y, lr)\u001b[0m\n",
      "File \u001b[0;32m<string>:74\u001b[0m, in \u001b[0;36mbackprop\u001b[0;34m(self, x, y)\u001b[0m\n",
      "File \u001b[0;32m<string>:74\u001b[0m, in \u001b[0;36m<listcomp>\u001b[0;34m(.0)\u001b[0m\n",
      "\u001b[0;31mKeyboardInterrupt\u001b[0m: "
     ]
    }
   ],
   "source": [
    "nn.train(x_train,y_train, epochs=50, mini_batch_size=10, lr=3.0)"
   ]
  },
  {
   "cell_type": "code",
   "execution_count": 12,
   "metadata": {},
   "outputs": [
    {
     "name": "stdout",
     "output_type": "stream",
     "text": [
      "Neural network accuracy: 89.03999999999999%\n"
     ]
    }
   ],
   "source": [
    "print(f'Neural network accuracy: {nn.evaluate(list(zip(x_test,y_test))) * 100}%') "
   ]
  },
  {
   "cell_type": "code",
   "execution_count": 17,
   "metadata": {},
   "outputs": [
    {
     "name": "stdout",
     "output_type": "stream",
     "text": [
      "Prediction: 6\n"
     ]
    },
    {
     "data": {
      "text/plain": [
       "<matplotlib.image.AxesImage at 0x7fd77c689150>"
      ]
     },
     "execution_count": 17,
     "metadata": {},
     "output_type": "execute_result"
    },
    {
     "data": {
      "image/png": "[encoded data removed]",
      "text/plain": [
       "<Figure size 640x480 with 1 Axes>"
      ]
     },
     "metadata": {},
     "output_type": "display_data"
    }
   ],
   "source": [
    "index = np.random.randint(0,len(x_test))\n",
    "print(f\"Prediction: {np.argmax(nn.forward(x_test[index]))}\")\n",
    "plt.imshow(x_test[index].reshape(28,28), interpolation='nearest')"
   ]
  },
  {
   "cell_type": "code",
   "execution_count": null,
   "metadata": {},
   "outputs": [],
   "source": []
  }
 ],
 "metadata": {
  "kernelspec": {
   "display_name": "Python 3",
   "language": "python",
   "name": "python3"
  },
  "language_info": {
   "codemirror_mode": {
    "name": "ipython",
    "version": 3
   },
   "file_extension": ".py",
   "mimetype": "text/x-python",
   "name": "python",
   "nbconvert_exporter": "python",
   "pygments_lexer": "ipython3",
   "version": "3.11.5"
  }
 },
 "nbformat": 4,
 "nbformat_minor": 2
}
